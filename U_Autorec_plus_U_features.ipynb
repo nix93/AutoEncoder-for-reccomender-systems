{
  "nbformat": 4,
  "nbformat_minor": 0,
  "metadata": {
    "colab": {
      "name": "U_Autoreclatest.ipynb",
      "provenance": [],
      "collapsed_sections": []
    },
    "kernelspec": {
      "name": "python3",
      "display_name": "Python 3"
    },
    "language_info": {
      "name": "python"
    }
  },
  "cells": [
    {
      "cell_type": "markdown",
      "source": [
        "**Note**\n",
        "\n",
        "This is an implementation of our improvement for the auto rec algorithm introduced in the following paper:\n",
        "\n",
        "Sedhain, Suvash, et al. \"Autorec: Autoencoders meet collaborative filtering.\" Proceedings of the 24th International Conference on World Wide Web. ACM, 2015\n",
        "\n",
        "The code is based on the paper's github repository:\n",
        "https://github.com/gtshs2/Autorec"
      ],
      "metadata": {
        "id": "WOSWvrvWfdfi"
      }
    },
    {
      "cell_type": "markdown",
      "source": [
        "**imports**"
      ],
      "metadata": {
        "id": "aU4BYS6razsT"
      }
    },
    {
      "cell_type": "code",
      "source": [
        "from google.colab import drive\n",
        "import tensorflow as tf\n",
        "import time\n",
        "import numpy as np\n",
        "import os\n",
        "import math\n",
        "!pip install --quiet zipfile36\n",
        "import zipfile\n",
        "import requests\n",
        "import pandas as pd\n",
        "import argparse\n",
        "from numpy import save\n",
        "import matplotlib\n",
        "import seaborn as sns\n",
        "import matplotlib.pyplot as plt\n",
        "from numpy import load\n"
      ],
      "metadata": {
        "id": "TXVJQ5gPpmZB"
      },
      "execution_count": 1,
      "outputs": []
    },
    {
      "cell_type": "markdown",
      "source": [
        "**artifacts files**"
      ],
      "metadata": {
        "id": "_g-4ExtJa2X7"
      }
    },
    {
      "cell_type": "code",
      "source": [
        "drive.mount('/content/drive')\n",
        "path='/content/drive/My Drive/Colab Notebooks/'\n",
        "hist_file100KAutoRec = path + 'hist_100KAutoRec.npy'\n",
        "params_file100KAutoRec = path + 'params_100KAutoRec.npy'\n",
        "hist_file1MAutoRec = path + 'hist_1MAutoRec.npy'\n",
        "params_file1MAutoRec = path + 'params_1MAutoRec.npy'\n",
        "hist_file100KAutoRecNew = path + 'hist_100KAutoRecNew.npy'\n",
        "params_file100KAutoRecNew = path + 'params_100KAutoRecNew.npy'\n",
        "hist_file1MAutoRecNew = path + 'hist_1MAutoRecNew.npy'\n",
        "params_file1MAutoRecNew = path + 'params_1MAutoRecNew.npy'\n",
        "\n",
        "hist_rmse_Mf_1M = path + 'hist_rmse-MF.npy'\n",
        "hist_Mf_1M = path + 'hist-MF.npy'\n",
        "params_Mf_1M = path + 'params-MF.npy'"
      ],
      "metadata": {
        "colab": {
          "base_uri": "https://localhost:8080/"
        },
        "id": "Us6zG1ARWuT2",
        "outputId": "e4514b24-bf7f-4c52-8300-11f788ff4545"
      },
      "execution_count": 3,
      "outputs": [
        {
          "output_type": "stream",
          "name": "stdout",
          "text": [
            "Mounted at /content/drive\n"
          ]
        }
      ]
    },
    {
      "cell_type": "markdown",
      "source": [
        "**Auto Encoder**"
      ],
      "metadata": {
        "id": "BQq-WDLua9tl"
      }
    },
    {
      "cell_type": "code",
      "execution_count": 4,
      "metadata": {
        "id": "hMSez5DQQBAX"
      },
      "outputs": [],
      "source": [
        "class AutoRec():\n",
        "    def __init__(self,sess,hidden_neuron,\n",
        "                      lambda_value,\n",
        "                      train_epoch,\n",
        "                      batch_size,\n",
        "                      optimizer_method,\n",
        "                      grad_clip,\n",
        "                      base_lr,\n",
        "                      decay_epoch_step,\n",
        "                      random_seed,\n",
        "                      display_step,\n",
        "                      num_users,num_items,\n",
        "                      R, mask_R, C, train_R, train_mask_R, test_R, test_mask_R,num_train_ratings,num_test_ratings,\n",
        "                      user_train_set, item_train_set, user_test_set, item_test_set, user_info, calc_new_metrics, num_users_U30, num_users_U20, newAutoRec,test_maskU30_R, test_maskU20_R,\n",
        "                      result_path):\n",
        "\n",
        "        self.sess = sess\n",
        "        self.newAutoRec = newAutoRec;\n",
        "        self.calc_new_metrics = calc_new_metrics\n",
        "        self.num_users_U0 = num_users_U30\n",
        "        self.num_users_U20 = num_users_U20\n",
        "        self.num_users = num_users\n",
        "        self.num_items = num_items\n",
        "        self.num_items_and_features = num_items + (newAutoRec *user_info.shape[1])\n",
        "        self.num_of_user_features = (newAutoRec * user_info.shape[1])\n",
        "        self.R = R\n",
        "        self.mask_R = mask_R\n",
        "        self.C = C\n",
        "        self.train_R = train_R\n",
        "        self.train_mask_R = train_mask_R\n",
        "        self.test_R = test_R\n",
        "        self.test_mask = (test_mask_R, test_maskU30_R, test_maskU20_R)\n",
        "        self.test_mask_R = test_mask_R\n",
        "        self.num_train_ratings = num_train_ratings\n",
        "        self.num_test_ratings = num_test_ratings\n",
        "        self.user_info = user_info\n",
        "        self.user_train_set = user_train_set\n",
        "        self.item_train_set = item_train_set\n",
        "        self.user_test_set = user_test_set\n",
        "        self.item_test_set = item_test_set\n",
        "\n",
        "        self.hidden_neuron = hidden_neuron\n",
        "        self.train_epoch = train_epoch\n",
        "        self.batch_size = batch_size\n",
        "        self.num_batch = int(math.ceil(self.num_users / float(self.batch_size)))\n",
        "\n",
        "        self.base_lr = base_lr\n",
        "        self.optimizer_method = optimizer_method\n",
        "        self.display_step = display_step\n",
        "        self.random_seed = random_seed\n",
        "\n",
        "        self.global_step = tf.Variable(0, trainable=False)\n",
        "        self.decay_epoch_step = decay_epoch_step\n",
        "        self.decay_step = self.decay_epoch_step * self.num_batch\n",
        "        self.lr = tf.train.exponential_decay(self.base_lr, self.global_step,\n",
        "                                                   self.decay_step, 0.96, staircase=True)\n",
        "        self.lambda_value = lambda_value\n",
        "\n",
        "        self.train_cost_list = []\n",
        "        self.test_cost_list = []\n",
        "        self.test_rmse_list = []\n",
        "\n",
        "        self.result_path = result_path\n",
        "        self.grad_clip = grad_clip\n",
        "\n",
        "    def run(self):\n",
        "        self.prepare_model()\n",
        "        init = tf.global_variables_initializer()\n",
        "        self.sess.run(init)\n",
        "        for epoch_itr in range(self.train_epoch):\n",
        "            self.train_model(epoch_itr)\n",
        "            self.test_model(epoch_itr)\n",
        "        self.make_records()\n",
        "\n",
        "    def prepare_model(self):\n",
        "        self.input_R = tf.placeholder(dtype=tf.float32, shape=[None, self.num_items_and_features], name=\"input_R\")\n",
        "        if self.newAutoRec:\n",
        "          self.user_features = tf.placeholder(dtype=tf.float32, shape=[None, self.num_of_user_features], name=\"user_features\")\n",
        "        self.input_mask_R = tf.placeholder(dtype=tf.float32, shape=[None, self.num_items_and_features], name=\"input_mask_R\")\n",
        "        \n",
        "\n",
        "        V = tf.get_variable(name=\"V\", initializer=tf.truncated_normal(shape=[self.num_items_and_features, self.hidden_neuron],\n",
        "                                         mean=0, stddev=0.03),dtype=tf.float32)\n",
        "        W = tf.get_variable(name=\"W\", initializer=tf.truncated_normal(shape=[self.hidden_neuron + self.num_of_user_features, self.num_items],\n",
        "                                         mean=0, stddev=0.03),dtype=tf.float32)\n",
        "\n",
        "        mu = tf.get_variable(name=\"mu\", initializer=tf.zeros(shape=self.hidden_neuron),dtype=tf.float32)\n",
        "        b = tf.get_variable(name=\"b\", initializer=tf.zeros(shape=self.num_items), dtype=tf.float32)\n",
        "\n",
        "\n",
        "        pre_Encoder = tf.matmul(self.input_R,V) + mu\n",
        "        self.Encoder = tf.nn.sigmoid(pre_Encoder)\n",
        "        if self.newAutoRec:\n",
        "          post_Encoder = tf.concat([self.Encoder, self.user_features], 1)\n",
        "          pre_Decoder = tf.matmul(post_Encoder,W) + b\n",
        "          self.Decoder = tf.identity(pre_Decoder)\n",
        "        else:\n",
        "          pre_Decoder = tf.matmul(self.Encoder,W) + b\n",
        "          self.Decoder = tf.identity(pre_Decoder)     \n",
        "\n",
        "        pre_rec_cost = tf.multiply((self.input_R[:,0:self.num_items] - self.Decoder) , self.input_mask_R[:,0:self.num_items])\n",
        "        rec_cost = tf.square(self.l2_norm(pre_rec_cost))\n",
        "        pre_reg_cost = tf.square(self.l2_norm(W)) + tf.square(self.l2_norm(V))\n",
        "        reg_cost = self.lambda_value * 0.5 * pre_reg_cost\n",
        "\n",
        "        self.cost = rec_cost + reg_cost\n",
        "\n",
        "        if self.optimizer_method == \"Adam\":\n",
        "            optimizer = tf.train.AdamOptimizer(self.lr)\n",
        "        elif self.optimizer_method == \"RMSProp\":\n",
        "            optimizer = tf.train.RMSPropOptimizer(self.lr)\n",
        "        else:\n",
        "            raise ValueError(\"Optimizer Key ERROR\")\n",
        "\n",
        "        if self.grad_clip:\n",
        "            gvs = optimizer.compute_gradients(self.cost)\n",
        "            capped_gvs = [(tf.clip_by_value(grad, -5., 5.), var) for grad, var in gvs]\n",
        "            self.optimizer = optimizer.apply_gradients(capped_gvs, global_step=self.global_step)\n",
        "        else:\n",
        "            self.optimizer = optimizer.minimize(self.cost, global_step=self.global_step)\n",
        "\n",
        "    def train_model(self,itr):\n",
        "        start_time = time.time()\n",
        "        random_perm_doc_idx = np.random.permutation(self.num_users)\n",
        "        batch_cost = 0\n",
        "        for i in range(self.num_batch):\n",
        "            if i == self.num_batch - 1:\n",
        "                batch_set_idx = random_perm_doc_idx[i * self.batch_size:]\n",
        "            elif i < self.num_batch - 1:\n",
        "                batch_set_idx = random_perm_doc_idx[i * self.batch_size : (i+1) * self.batch_size]\n",
        "            if self.newAutoRec:\n",
        "              _, Cost = self.sess.run(\n",
        "                  [self.optimizer, self.cost],\n",
        "                  feed_dict={self.input_R: self.train_R[batch_set_idx, :],\n",
        "                            self.input_mask_R: self.train_mask_R[batch_set_idx, :],\n",
        "                            self.user_features: self.user_info[batch_set_idx, :]})\n",
        "            else:\n",
        "              _, Cost = self.sess.run(\n",
        "                  [self.optimizer, self.cost],\n",
        "                  feed_dict={self.input_R: self.train_R[batch_set_idx, :],\n",
        "                            self.input_mask_R: self.train_mask_R[batch_set_idx, :]})\n",
        "\n",
        "            batch_cost = batch_cost + Cost\n",
        "        self.train_cost_list.append(batch_cost)\n",
        "\n",
        "        if (itr+1) % self.display_step == 0:\n",
        "            print (\"Training //\", \"Epoch %d //\" % (itr), \" Total cost = {:.2f}\".format(batch_cost),\n",
        "               \"Elapsed time : %d sec\" % (time.time() - start_time))\n",
        "\n",
        "    def test_model(self,itr):\n",
        "        start_time = time.time()\n",
        "        ind = [0]\n",
        "        if self.calc_new_metrics:\n",
        "          ind = [1,2]\n",
        "        for i in ind:\n",
        "          cost_list = []\n",
        "          if self.newAutoRec:\n",
        "            Cost,Decoder = self.sess.run(\n",
        "                [self.cost,self.Decoder],\n",
        "                feed_dict={self.input_R: self.test_R,\n",
        "                          self.input_mask_R: self.test_mask[i],\n",
        "                          self.user_features: self.user_info})\n",
        "          else:\n",
        "            Cost,Decoder = self.sess.run(\n",
        "                [self.cost,self.Decoder],\n",
        "                feed_dict={self.input_R: self.test_R,\n",
        "                          self.input_mask_R: self.test_mask[i]})\n",
        "            \n",
        "          self.test_cost_list.append(Cost)\n",
        "\n",
        "          if (itr+1) % self.display_step == 0:\n",
        "              Estimated_R = Decoder.clip(min=1, max=5)\n",
        "              unseen_user_test_list = list(self.user_test_set - self.user_train_set)\n",
        "              unseen_item_test_list = list(self.item_test_set - self.item_train_set)\n",
        "\n",
        "              for user in unseen_user_test_list:\n",
        "                  for item in unseen_item_test_list:\n",
        "                      if self.test_mask[i][user,item] == 1: # exist in test set\n",
        "                          Estimated_R[user,item] = 3\n",
        "\n",
        "              pre_numerator = np.multiply((Estimated_R - self.test_R[:,0:self.num_items]), self.test_mask[i][:,0:self.num_items])\n",
        "              numerator = np.sum(np.square(pre_numerator))\n",
        "              denominator = self.num_test_ratings\n",
        "              if i == 1:\n",
        "                denominator = self.num_users_U30\n",
        "              elif i==2:\n",
        "                denominator = self.num_users_U20\n",
        "              RMSE = np.sqrt(numerator / float(denominator))\n",
        "\n",
        "              self.test_rmse_list.append(RMSE)\n",
        "\n",
        "              print (\"Testing //\", \"Epoch %d //\" % (itr), \" Total cost = {:.2f}\".format(Cost), \" RMSE = {:.5f}\".format(RMSE),\n",
        "                    \"Elapsed time : %d sec\" % (time.time() - start_time))\n",
        "              print (\"=\" * 100)\n",
        "\n",
        "    def make_records(self):\n",
        "        if not os.path.exists(self.result_path):\n",
        "            os.makedirs(self.result_path)\n",
        "\n",
        "        basic_info = self.result_path + \"basic_info.txt\"\n",
        "        train_record = self.result_path + \"train_record.txt\"\n",
        "        test_record = self.result_path + \"test_record.txt\"\n",
        "\n",
        "        with open (train_record,'w') as f:\n",
        "            f.write(str(\"Cost:\"))\n",
        "            f.write('\\t')\n",
        "            for itr in range(len(self.train_cost_list)):\n",
        "                f.write(str(self.train_cost_list[itr]))\n",
        "                f.write('\\t')\n",
        "            f.write('\\n')\n",
        "\n",
        "        with open (test_record,'w') as g:\n",
        "            g.write(str(\"Cost:\"))\n",
        "            g.write('\\t')\n",
        "            for itr in range(len(self.test_cost_list)):\n",
        "                g.write(str(self.test_cost_list[itr]))\n",
        "                g.write('\\t')\n",
        "            g.write('\\n')\n",
        "\n",
        "            g.write(str(\"RMSE:\"))\n",
        "            for itr in range(len(self.test_rmse_list)):\n",
        "                g.write(str(self.test_rmse_list[itr]))\n",
        "                g.write('\\t')\n",
        "            g.write('\\n')\n",
        "\n",
        "\n",
        "    def l2_norm(self,tensor):\n",
        "        return tf.sqrt(tf.reduce_sum(tf.square(tensor)))\n",
        "\n"
      ]
    },
    {
      "cell_type": "markdown",
      "source": [
        "**read data - 1 function for movieLens1M and 1 function to movieLems100K**"
      ],
      "metadata": {
        "id": "L1Xxt8fMbD-m"
      }
    },
    {
      "cell_type": "code",
      "source": [
        "def read_rating_100K(path, num_users, num_items,num_total_ratings, a, b, train_ratio, newAutoRec, newMetrics):\n",
        "  url = 'http://files.grouplens.org/datasets/movielens/ml-100k.zip'\n",
        "  zip_name = 'ml-100k.zip'\n",
        "  data_dir = 'ml-100k/'\n",
        "\n",
        "  r = requests.get(url, allow_redirects=True)\n",
        "  open(zip_name, 'wb').write(r.content)\n",
        "\n",
        "  with zipfile.ZipFile(zip_name,\"r\") as zip_ref:\n",
        "      zip_ref.extractall()\n",
        "\n",
        "  cols_data = ['user_id','item_id','rating','timestamp']\n",
        "  cols_user = ['user_id','age','gender','occupation','zip code']\n",
        "  cols_item = ['movie id','movie_title','release_date','video_release_date','IMDb_URL','unknown','Action','Adventure','Animation',\n",
        "              'Childrens','Comedy','Crime','Documentary','Drama','Fantasy','Film_Noir','Horror','Musical','Mystery','Romance',\n",
        "              'Sci_Fi','Thriller','War','Western']\n",
        "\n",
        "  df_users = pd.read_csv(data_dir + 'u.user',delimiter='|', header=None,names=cols_user)\n",
        "  df_items = pd.read_csv(data_dir + 'u.item',delimiter='|', header=None,names=cols_item,encoding=\"ISO-8859-1\")\n",
        "  df_ratings = pd.read_csv(data_dir + 'u.data',delimiter='\\t', header=None,names=cols_data)\n",
        "  ratings = df_ratings.pivot(index = 'user_id', columns ='item_id', values = 'rating').fillna(0)\n",
        "\n",
        "  df_folds = {i:\n",
        "        {'train' : pd.read_csv('{}u{}.base'.format(data_dir,i), delimiter='\\t', header=None, names=cols_data),\n",
        "          'test'  : pd.read_csv('{}u{}.test'.format(data_dir,i), delimiter='\\t', header=None, names=cols_data)\n",
        "        } for i in range(1,6)} \n",
        "\n",
        "  def fold2df(i):\n",
        "      train = df_folds[i]['train'].pivot(index = 'user_id', columns ='item_id', values = 'rating').fillna(0)\n",
        "      test  = df_folds[i]['test'].pivot(index = 'user_id', columns ='item_id', values = 'rating').fillna(0)\n",
        "      return train,test \n",
        "\n",
        "  def getfulldf(train_fold,test_fold):\n",
        "      train = ratings.copy()\n",
        "      train[:] = 0\n",
        "      test = train.copy()\n",
        "      \n",
        "      train.loc[train_fold.index,train_fold.columns] = train_fold.values\n",
        "      test.loc[test_fold.index,test_fold.columns] = test_fold.values\n",
        "      return train,test\n",
        "\n",
        "  fold = 1\n",
        "  train,test = getfulldf(*fold2df(1))\n",
        "\n",
        "  a = df_users.to_numpy()\n",
        "  user_info = np.zeros((943,31))\n",
        "  if newAutoRec:\n",
        "    uni = df_users['occupation'].unique()\n",
        "    dic = {}\n",
        "    for i in range(len(uni)):\n",
        "      dic[uni[i]] =i + 10\n",
        "    for user_index in range(a.shape[0]):\n",
        "      #add gender \n",
        "      if a[user_index][2] == 'M':\n",
        "        user_info[user_index][0] = 1\n",
        "      else:\n",
        "        user_info[user_index][1] = 1\n",
        "      #add age\n",
        "      if int(a[user_index][1]) < 18:\n",
        "        user_info[user_index][2] = 1\n",
        "      elif int(a[user_index][1]) < 25:\n",
        "        user_info[user_index][3] = 1\n",
        "      elif int(a[user_index][1]) < 35:\n",
        "        user_info[user_index][4] = 1 \n",
        "      elif int(a[user_index][1]) < 45:\n",
        "        user_info[user_index][5] = 1\n",
        "      elif int(a[user_index][1]) < 50:\n",
        "        user_info[user_index][6] = 1\n",
        "      elif int(a[user_index][1]) < 56:\n",
        "        user_info[user_index][7] = 1\n",
        "      else:\n",
        "        user_info[user_index][8] = 1\n",
        "      #add occupations\n",
        "      user_info[user_index][dic[a[user_index][3]]] = 1\n",
        "  user_info = user_info.tolist()\n",
        "  train_R = train.to_numpy()\n",
        "  train_mask_R = np.where(train_R > 0 , 1 , 0)\n",
        "  test_R = test.to_numpy()\n",
        "  test_mask_R = np.where(test_R > 0 , 1 , 0)\n",
        "\n",
        "  if newAutoRec:\n",
        "    train_temp = train_R.tolist()\n",
        "    train_mask_temp = train_mask_R.tolist()\n",
        "    test_temp = test_R.tolist()\n",
        "    test_mask_temp = test_mask_R.tolist()\n",
        "    \n",
        "    for i in range(ratings.shape[0]):\n",
        "      train_temp[i]+=user_info[i]\n",
        "      test_temp[i]+=user_info[i]\n",
        "      train_mask_temp[i]+= np.ones(31).tolist()\n",
        "      test_mask_temp[i]+= np.ones(31).tolist()\n",
        "    \n",
        "    train_R = np.array(train_temp)\n",
        "    train_mask_R = np.array(train_mask_temp)\n",
        "    test_R = np.array(test_temp)\n",
        "    test_mask_R = np.array(test_mask_temp)\n",
        "\n",
        "\n",
        "  R = ratings.to_numpy()\n",
        "  mask_R = np.where(R > 0 , 1 , 0)\n",
        "  C = None\n",
        "  num_train_ratings = sum(sum(train_mask_R))\n",
        "  num_test_ratings = sum(sum(test_mask_R))\n",
        "  user_train_set= set()\n",
        "  user_test_set= set()\n",
        "  item_train_set= set()\n",
        "  item_test_set= set()\n",
        "  for user_idx in range(train_mask_R.shape[0]):\n",
        "    if sum(train_mask_R[user_idx])>0:\n",
        "        user_train_set.add(user_idx)\n",
        "    if sum(train_mask_R[user_idx])>0:\n",
        "        user_test_set.add(user_idx)\n",
        "\n",
        "  for item_idx in range(train_mask_R.shape[1]):\n",
        "    if sum(train_mask_R[:,item_idx])>0:\n",
        "        item_train_set.add(item_idx)\n",
        "    if sum(train_mask_R[:,item_idx])>0:\n",
        "        item_test_set.add(item_idx)\n",
        "\n",
        "\n",
        "  test_maskU30_R = test_mask_R.copy()\n",
        "  test_maskU20_R = test_mask_R.copy()\n",
        "  num_users_U30 = num_users\n",
        "  num_users_U20 = num_users\n",
        "  for i in range(num_users):\n",
        "    if sum(train_mask_R[i]) > 13:\n",
        "      num_users_U30 -= 1\n",
        "      test_maskU30_R[i] *= 0\n",
        "    if sum(train_mask_R[i]) > 23:\n",
        "      num_users_U20 -= 1\n",
        "      test_maskU20_R[i] *= 0\n",
        "  return ratings.to_numpy(), mask_R, C, train_R, train_mask_R, test_R, test_mask_R,num_train_ratings,num_test_ratings,\\\n",
        "    user_train_set,item_train_set,user_test_set,item_test_set, np.array(user_info), test_maskU30_R, test_maskU20_R, num_users_U30, num_users_U20\n",
        "\n",
        "def read_rating(path, num_users, num_items,num_total_ratings, a, b, train_ratio, newAutoRec, newMetrics):\n",
        "    url = 'http://files.grouplens.org/datasets/movielens/ml-1m.zip'\n",
        "    zip_name = 'ml-1m.zip'\n",
        "    data_dir = 'ml-1m/'\n",
        "    print(newAutoRec)\n",
        "    r = requests.get(url, allow_redirects=True)\n",
        "    open(zip_name, 'wb').write(r.content)\n",
        "\n",
        "    with zipfile.ZipFile(zip_name,\"r\") as zip_ref:\n",
        "      zip_ref.extractall()\n",
        "\n",
        "    fp = open(data_dir + \"ratings.dat\")\n",
        "\n",
        "    user_train_set = set()\n",
        "    user_test_set = set()\n",
        "    item_train_set = set()\n",
        "    item_test_set = set()\n",
        "    num_items_and_feautues = num_items + (newAutoRec * 30);\n",
        "    R = np.zeros((num_users,num_items))\n",
        "    mask_R = np.zeros((num_users, num_items))\n",
        "    C = np.ones((num_users, num_items)) * b\n",
        "\n",
        "    train_R = np.zeros((num_users, num_items_and_feautues))\n",
        "    test_R = np.zeros((num_users, num_items_and_feautues))\n",
        "\n",
        "    train_mask_R = np.zeros((num_users, num_items_and_feautues))\n",
        "    test_mask_R = np.zeros((num_users, num_items_and_feautues))\n",
        "\n",
        "    user_info = np.zeros((num_users, 30))\n",
        "\n",
        "    random_perm_idx = np.random.permutation(num_total_ratings)\n",
        "    train_idx = random_perm_idx[0:int(num_total_ratings*train_ratio)]\n",
        "    test_idx = random_perm_idx[int(num_total_ratings*train_ratio):]\n",
        "\n",
        "    num_train_ratings = len(train_idx)\n",
        "    num_test_ratings = len(test_idx)\n",
        "\n",
        "    lines = fp.readlines()\n",
        "    for line in lines:\n",
        "        user,item,rating,_ = line.split(\"::\")\n",
        "        user_idx = int(user) - 1\n",
        "        item_idx = int(item) - 1\n",
        "        R[user_idx,item_idx] = int(rating)\n",
        "        mask_R[user_idx,item_idx] = 1\n",
        "        C[user_idx,item_idx] = a\n",
        "\n",
        "    ''' Train '''\n",
        "    for itr in train_idx:\n",
        "        line = lines[itr]\n",
        "        user,item,rating,_ = line.split(\"::\")\n",
        "        user_idx = int(user) - 1\n",
        "        item_idx = int(item) - 1\n",
        "        train_R[user_idx,item_idx] = int(rating)\n",
        "        train_mask_R[user_idx,item_idx] = 1\n",
        "\n",
        "        user_train_set.add(user_idx)\n",
        "        item_train_set.add(item_idx)\n",
        "\n",
        "    ''' Test '''\n",
        "    for itr in test_idx:\n",
        "        line = lines[itr]\n",
        "        user, item, rating, _ = line.split(\"::\")\n",
        "        user_idx = int(user) - 1\n",
        "        item_idx = int(item) - 1\n",
        "        test_R[user_idx, item_idx] = int(rating)\n",
        "        test_mask_R[user_idx, item_idx] = 1\n",
        "\n",
        "        user_test_set.add(user_idx)\n",
        "        item_test_set.add(item_idx)\n",
        "    \n",
        "    ''' Add user features to train and test '''\n",
        "    ''' UserID::Gender::Age::Occupation::Zip-code '''\n",
        "    m=0\n",
        "    if newAutoRec:\n",
        "      fp = open(data_dir + \"users.dat\")\n",
        "      lines = fp.readlines()\n",
        "      for line in lines:\n",
        "          loc = num_items;\n",
        "          loc_user = 0\n",
        "          user,gender,age,occupation,_ = line.split(\"::\")\n",
        "\n",
        "          user = int(user) - 1\n",
        "          #add gender\n",
        "          if gender == 'M':\n",
        "            train_R[user][loc] = 1\n",
        "            test_R[user][loc] = 1\n",
        "            train_R[user][loc + 1] = 0\n",
        "            test_R[user][loc + 1] = 0\n",
        "            user_info[user][loc_user] = 1\n",
        "            user_info[user][loc_user + 1] = 0\n",
        "          else:\n",
        "            train_R[user][loc] = 0\n",
        "            test_R[user][loc] = 0\n",
        "            user_info[user][loc_user] = 0\n",
        "            train_R[user][loc + 1] = 1\n",
        "            test_R[user][loc + 1] = 1\n",
        "            user_info[user][loc_user + 1] = 1\n",
        "\n",
        "          train_mask_R[user][loc] = 1\n",
        "          test_mask_R[user][loc] = 1\n",
        "          train_mask_R[user][loc + 1] = 1\n",
        "          test_mask_R[user][loc + 1] = 1\n",
        "          loc = loc + 2\n",
        "          loc_user = loc_user + 2\n",
        "          #add age\n",
        "          i = 0;\n",
        "          if age == '1':\n",
        "              i = 0\n",
        "          elif age == '18':\n",
        "              i = 1\n",
        "          elif age == '25':\n",
        "              i = 2\n",
        "          elif age == '35':\n",
        "              i = 3\n",
        "          elif age == '45':\n",
        "              i = 4\n",
        "          elif age == '50':\n",
        "              i = 5\n",
        "          elif age == '56':\n",
        "              i = 6\n",
        "          for j in range(7):\n",
        "            if i == j:\n",
        "              train_R[user][loc+i] = 1\n",
        "              test_R[user][loc+i] = 1\n",
        "              user_info[user][loc_user + i] = 1\n",
        "            else:\n",
        "              train_R[user][loc+i] = 0\n",
        "              test_R[user][loc+i] = 0\n",
        "              user_info[user][loc_user + i] = 0\n",
        "          loc = loc + 7;\n",
        "          loc_user = loc_user + 7;\n",
        "          i=0\n",
        "\n",
        "          for i in range(21):\n",
        "            if str(i) == occupation:\n",
        "              train_R[user][loc+i] = 1\n",
        "              train_mask_R[user][loc+i] = 1\n",
        "              test_R[user][loc+i] = 1\n",
        "              test_mask_R[user][loc+i] = 1\n",
        "              user_info[user][loc_user + i] = 1\n",
        "            else:\n",
        "              train_R[user][loc+i] = 0\n",
        "              train_mask_R[user][loc+i] = 0\n",
        "              test_R[user][loc+i] = 0\n",
        "              test_mask_R[user][loc+i] = 0\n",
        "              user_info[user][loc_user + i] = 0\n",
        "    test_maskU30_R = test_mask_R.copy()\n",
        "    test_maskU20_R = test_mask_R.copy()\n",
        "\n",
        "    U30 = num_users\n",
        "    U20 = num_users\n",
        "    lim30 = 30;\n",
        "    lim20 = 20;\n",
        "    if newAutoRec:\n",
        "      lim30+=3\n",
        "      lim20+=3\n",
        "    for i in range(num_users):\n",
        "      if sum(train_mask_R[i]) > lim30:\n",
        "        U30 -=1\n",
        "        test_maskU30_R[i] *= 0\n",
        "      if sum(train_mask_R[i]) > lim20:\n",
        "        U20 -=1\n",
        "        test_maskU20_R[i] *= 0\n",
        "\n",
        "    num_users_U30 =sum(sum(test_maskU30_R))\n",
        "    num_users_U20 = sum(sum(test_maskU20_R))\n",
        "    if newAutoRec:\n",
        "      num_users_U30 -= U30*3\n",
        "      num_users_U20 -= U20*3\n",
        "\n",
        "    return R, mask_R, C, train_R, train_mask_R, test_R, test_mask_R,num_train_ratings,num_test_ratings,\\\n",
        "user_train_set,item_train_set,user_test_set,item_test_set, user_info,test_maskU30_R,test_maskU20_R, num_users_U30, num_users_U20"
      ],
      "metadata": {
        "id": "1P85BrppQY15"
      },
      "execution_count": 5,
      "outputs": []
    },
    {
      "cell_type": "markdown",
      "source": [
        "**100K autorec new**"
      ],
      "metadata": {
        "id": "q9XcDJdq4VE0"
      }
    },
    {
      "cell_type": "code",
      "source": [
        "import tensorflow.compat.v1 as tf\n",
        "tf.disable_v2_behavior()\n",
        "current_time = time.time()\n",
        "random_seed=1000\n",
        "tf.set_random_seed(random_seed)\n",
        "np.random.seed(random_seed)\n",
        "newAE = 1\n",
        "newMet = 0\n",
        "num_users = 943; num_items = 1682; num_total_ratings = 100000; train_ratio = 0.9\n",
        "result_path = './content/drive/My Drive/Colab Notebooks/results/'\n",
        "R, mask_R, C, train_R, train_mask_R, test_R, test_mask_R,num_train_ratings,num_test_ratings,\\\n",
        "user_train_set,item_train_set,user_test_set,item_test_set, user_info, test_maskU30_R, test_maskU20_R,num_users_U30, num_users_U20 \\\n",
        "    = read_rating_100K(path, num_users, num_items,num_total_ratings, 1, 0, train_ratio, newAE,newMet)\n",
        "\n",
        "\n",
        "config = tf.ConfigProto()\n",
        "config.gpu_options.allow_growth=True\n",
        "\n",
        "hidden_neuron_l=[500, 250, 100]\n",
        "lambda_valuede=1\n",
        "train_epoch=400\n",
        "batch_size_l=[100, 200]\n",
        "optimizer_method='Adam'\n",
        "grad_clip=False\n",
        "base_lr_l=[1e-3 , 1e-2]\n",
        "decay_epoch_step_l=[50, 20]\n",
        "myModel = None\n",
        "hist = []\n",
        "params = []\n",
        "display_step=1\n",
        "for hidden_neuron in hidden_neuron_l:\n",
        "  for batch_size in batch_size_l:\n",
        "    for base_lr in base_lr_l:\n",
        "      for decay_epoch_step in decay_epoch_step_l:\n",
        "        tf.reset_default_graph()\n",
        "        with tf.Session(config=config) as sess:\n",
        "            myModel = AutoRec(sess,hidden_neuron,\\\n",
        "                              lambda_valuede,\\\n",
        "                              train_epoch,\\\n",
        "                              batch_size,\\\n",
        "                              optimizer_method,\\\n",
        "                              grad_clip,\\\n",
        "                              base_lr,\\\n",
        "                              decay_epoch_step,\\\n",
        "                              random_seed,\\\n",
        "                              display_step,\\\n",
        "                              num_users,num_items,\\\n",
        "                              R, mask_R, C, train_R, train_mask_R, test_R, test_mask_R,num_train_ratings,num_test_ratings,\\\n",
        "                              user_train_set, item_train_set, user_test_set, item_test_set, user_info,newMet, num_users_U30, num_users_U20,newAE,test_maskU30_R, test_maskU20_R,\\\n",
        "                              result_path)\n",
        "            myModel.run()\n",
        "            hist.append([myModel.train_cost_list,myModel.test_cost_list,myModel.test_rmse_list])\n",
        "            params.append([hidden_neuron,batch_size,base_lr,decay_epoch_step])\n",
        "            save(hist_file100KAutoRecNew, hist)\n",
        "            save(params_file100KAutoRecNew, params)\n",
        "\n",
        "\n"
      ],
      "metadata": {
        "id": "Z8hqmWaFd8Ad"
      },
      "execution_count": null,
      "outputs": []
    },
    {
      "cell_type": "markdown",
      "source": [
        "**1M new autorec**"
      ],
      "metadata": {
        "id": "RzI_QeTX4E_i"
      }
    },
    {
      "cell_type": "code",
      "source": [
        "import tensorflow.compat.v1 as tf\n",
        "tf.disable_v2_behavior()\n",
        "current_time = time.time()\n",
        "random_seed=1000\n",
        "tf.set_random_seed(random_seed)\n",
        "np.random.seed(random_seed)\n",
        "newAE = 1\n",
        "newMet = 0\n",
        "num_users = 6040; num_items = 3952; num_total_ratings = 1000209; train_ratio = 0.9\n",
        "result_path = './content/drive/My Drive/Colab Notebooks/results/'\n",
        "R, mask_R, C, train_R, train_mask_R, test_R, test_mask_R,num_train_ratings,num_test_ratings,\\\n",
        "user_train_set,item_train_set,user_test_set,item_test_set, user_info, test_maskU30_R, test_maskU20_R,num_users_U30, num_users_U20 \\\n",
        "    = read_rating(path, num_users, num_items,num_total_ratings, 1, 0, train_ratio,  newAE,newMet)\n",
        "\n",
        "\n",
        "config = tf.ConfigProto()\n",
        "config.gpu_options.allow_growth=True\n",
        "\n",
        "hidden_neuron_l=[500, 250, 100]\n",
        "lambda_valuede=1\n",
        "train_epoch=200\n",
        "batch_size_l=[100, 200]\n",
        "optimizer_method='Adam'\n",
        "grad_clip=False\n",
        "base_lr_l=[1e-3 , 1e-2]\n",
        "decay_epoch_step_l=[50, 20]\n",
        "myModel = None\n",
        "hist = []\n",
        "params = []\n",
        "display_step=1\n",
        "for hidden_neuron in hidden_neuron_l:\n",
        "  for batch_size in batch_size_l:\n",
        "    for base_lr in base_lr_l:\n",
        "      for decay_epoch_step in decay_epoch_step_l:\n",
        "        tf.reset_default_graph()\n",
        "        with tf.Session(config=config) as sess:\n",
        "            myModel = AutoRec(sess,hidden_neuron,\\\n",
        "                              lambda_valuede,\\\n",
        "                              train_epoch,\\\n",
        "                              batch_size,\\\n",
        "                              optimizer_method,\\\n",
        "                              grad_clip,\\\n",
        "                              base_lr,\\\n",
        "                              decay_epoch_step,\\\n",
        "                              random_seed,\\\n",
        "                              display_step,\\\n",
        "                              num_users,num_items,\\\n",
        "                              R, mask_R, C, train_R, train_mask_R, test_R, test_mask_R,num_train_ratings,num_test_ratings,\\\n",
        "                              user_train_set, item_train_set, user_test_set, item_test_set, user_info,newMet, num_users_U30, num_users_U20,newAE,test_maskU30_R, test_maskU20_R,\\\n",
        "                              result_path)\n",
        "            myModel.run()\n",
        "            hist.append([myModel.train_cost_list,myModel.test_cost_list,myModel.test_rmse_list])\n",
        "            params.append([hidden_neuron,batch_size,base_lr,decay_epoch_step])\n",
        "            save(hist_file1MAutoRecNew, hist)\n",
        "            save(params_file1MAutoRecNew, params)\n",
        "\n",
        "\n"
      ],
      "metadata": {
        "id": "2V9Hit_8cDEp"
      },
      "execution_count": null,
      "outputs": []
    },
    {
      "cell_type": "markdown",
      "source": [
        "**100K autorec**"
      ],
      "metadata": {
        "id": "iTNvF7M737bW"
      }
    },
    {
      "cell_type": "code",
      "source": [
        "import tensorflow.compat.v1 as tf\n",
        "tf.disable_v2_behavior()\n",
        "current_time = time.time()\n",
        "random_seed=1000\n",
        "tf.set_random_seed(random_seed)\n",
        "np.random.seed(random_seed)\n",
        "newAE = 0\n",
        "newMet = 0\n",
        "#num_users = 6040; num_items = 3952; num_total_ratings = 1000209; train_ratio = 0.9\n",
        "num_users = 943; num_items = 1682; num_total_ratings = 100000; train_ratio = 0.9\n",
        "result_path = './content/drive/My Drive/Colab Notebooks/results/'\n",
        "R, mask_R, C, train_R, train_mask_R, test_R, test_mask_R,num_train_ratings,num_test_ratings,\\\n",
        "user_train_set,item_train_set,user_test_set,item_test_set, user_info, test_maskU30_R, test_maskU20_R, num_users_U30, num_users_U20 \\\n",
        "    = read_rating_100K(path, num_users, num_items,num_total_ratings, 1, 0, train_ratio,  newAE,newMet)\n",
        "\n",
        "\n",
        "config = tf.ConfigProto()\n",
        "config.gpu_options.allow_growth=True\n",
        "newAE = 0\n",
        "newMet = 0\n",
        "hidden_neuron_l=[500, 250, 100]\n",
        "lambda_valuede=1\n",
        "train_epoch=400\n",
        "batch_size_l=[100, 200]\n",
        "optimizer_method='Adam'\n",
        "grad_clip=False\n",
        "base_lr_l=[1e-3 , 1e-2]\n",
        "decay_epoch_step_l=[50, 20]\n",
        "myModel = None\n",
        "hist = []\n",
        "params = []\n",
        "display_step=1\n",
        "for hidden_neuron in hidden_neuron_l:\n",
        "  for batch_size in batch_size_l:\n",
        "    for base_lr in base_lr_l:\n",
        "      for decay_epoch_step in decay_epoch_step_l:\n",
        "        tf.reset_default_graph()\n",
        "        with tf.Session(config=config) as sess:\n",
        "            myModel = AutoRec(sess,hidden_neuron,\\\n",
        "                              lambda_valuede,\\\n",
        "                              train_epoch,\\\n",
        "                              batch_size,\\\n",
        "                              optimizer_method,\\\n",
        "                              grad_clip,\\\n",
        "                              base_lr,\\\n",
        "                              decay_epoch_step,\\\n",
        "                              random_seed,\\\n",
        "                              display_step,\\\n",
        "                              num_users,num_items,\\\n",
        "                              R, mask_R, C, train_R, train_mask_R, test_R, test_mask_R,num_train_ratings,num_test_ratings,\\\n",
        "                              user_train_set, item_train_set, user_test_set, item_test_set, user_info,newMet, num_users_U30, num_users_U20,newAE,test_maskU30_R, test_maskU20_R,\\\n",
        "                              result_path)\n",
        "            myModel.run()\n",
        "            hist.append([myModel.train_cost_list,myModel.test_cost_list,myModel.test_rmse_list])\n",
        "            params.append([hidden_neuron,batch_size,base_lr,decay_epoch_step])\n",
        "            save(hist_file100KAutoRec, hist)\n",
        "            save(params_file100KAutoRec, params)\n",
        "\n",
        "\n"
      ],
      "metadata": {
        "id": "KToUcAMTilxT"
      },
      "execution_count": null,
      "outputs": []
    },
    {
      "cell_type": "markdown",
      "source": [
        "**1M auto rec**"
      ],
      "metadata": {
        "id": "PhTsinG05xAi"
      }
    },
    {
      "cell_type": "code",
      "source": [
        "import tensorflow.compat.v1 as tf\n",
        "tf.disable_v2_behavior()\n",
        "current_time = time.time()\n",
        "random_seed=1000\n",
        "tf.set_random_seed(random_seed)\n",
        "np.random.seed(random_seed)\n",
        "newAE = 0\n",
        "newMet = 0\n",
        "num_users = 6040; num_items = 3952; num_total_ratings = 1000209; train_ratio = 0.9\n",
        "result_path = './content/drive/My Drive/Colab Notebooks/results/'\n",
        "R, mask_R, C, train_R, train_mask_R, test_R, test_mask_R,num_train_ratings,num_test_ratings,\\\n",
        "user_train_set,item_train_set,user_test_set,item_test_set, user_info, test_maskU30_R, test_maskU20_R,num_users_U30, num_users_U20 \\\n",
        "    = read_rating(path, num_users, num_items,num_total_ratings, 1, 0, train_ratio,  newAE,newMet)\n",
        "\n",
        "\n",
        "config = tf.ConfigProto()\n",
        "config.gpu_options.allow_growth=True\n",
        "\n",
        "hidden_neuron_l=[500, 250, 100]\n",
        "lambda_valuede=1\n",
        "train_epoch=200\n",
        "batch_size_l=[100, 200]\n",
        "optimizer_method='Adam'\n",
        "grad_clip=False\n",
        "base_lr_l=[1e-3 , 1e-2]\n",
        "decay_epoch_step_l=[50, 20]\n",
        "myModel = None\n",
        "hist = []\n",
        "params = []\n",
        "display_step=1\n",
        "for hidden_neuron in hidden_neuron_l:\n",
        "  for batch_size in batch_size_l:\n",
        "    for base_lr in base_lr_l:\n",
        "      for decay_epoch_step in decay_epoch_step_l:\n",
        "        tf.reset_default_graph()\n",
        "        with tf.Session(config=config) as sess:\n",
        "            myModel = AutoRec(sess,hidden_neuron,\\\n",
        "                              lambda_valuede,\\\n",
        "                              train_epoch,\\\n",
        "                              batch_size,\\\n",
        "                              optimizer_method,\\\n",
        "                              grad_clip,\\\n",
        "                              base_lr,\\\n",
        "                              decay_epoch_step,\\\n",
        "                              random_seed,\\\n",
        "                              display_step,\\\n",
        "                              num_users,num_items,\\\n",
        "                              R, mask_R, C, train_R, train_mask_R, test_R, test_mask_R,num_train_ratings,num_test_ratings,\\\n",
        "                              user_train_set, item_train_set, user_test_set, item_test_set, user_info,newMet, num_users_U30, num_users_U20,newAE,test_maskU30_R, test_maskU20_R,\\\n",
        "                              result_path)\n",
        "            myModel.run()\n",
        "            hist.append([myModel.train_cost_list,myModel.test_cost_list,myModel.test_rmse_list])\n",
        "            params.append([hidden_neuron,batch_size,base_lr,decay_epoch_step])\n",
        "            save(hist_file1MAutoRec, hist)\n",
        "            save(params_file1MAutoRec, params)\n",
        "\n",
        "\n"
      ],
      "metadata": {
        "id": "ZqluJA6rixhd"
      },
      "execution_count": null,
      "outputs": []
    },
    {
      "cell_type": "markdown",
      "source": [
        "**load artifacts and plot graphs**"
      ],
      "metadata": {
        "id": "6liG671IcSt3"
      }
    },
    {
      "cell_type": "code",
      "source": [
        "#load history\n",
        "hist_file100KAutoRec_list = load(hist_file100KAutoRec)\n",
        "params_file100KAutoRec_list = load(params_file100KAutoRec)\n",
        "hist_file1MAutoRec_list = load(hist_file1MAutoRec)\n",
        "params_file1MAutoRec_list = load(params_file1MAutoRec)\n",
        "hist_file100KAutoRecNew_list = load(hist_file100KAutoRecNew)\n",
        "params_file100KAutoRecNew_list =load(params_file100KAutoRecNew)\n",
        "hist_file1MAutoRecNew_list = load(hist_file1MAutoRecNew)\n",
        "params_file1MAutoRecNew_list = load(params_file1MAutoRecNew)\n",
        "\n",
        "hist_rmse_Mf_1M_list = load(hist_rmse_Mf_1M)\n",
        "#hist_Mf_1M_list = load(hist_Mf_1M)\n",
        "params_Mf_1M_list = load(params_Mf_1M)"
      ],
      "metadata": {
        "id": "bObIo8B9oG2f"
      },
      "execution_count": 12,
      "outputs": []
    },
    {
      "cell_type": "code",
      "source": [
        "#find best model 1M 10 latents\n",
        "min_10L_1m_RMSE = np.amin(np.array(hist_rmse_Mf_1M_list[0:12]))\n",
        "min_10L_1m_index = np.where(np.array(min_10L_1m_RMSE) == hist_rmse_Mf_1M_list[0:12])[0][0]\n",
        "#find best model 1M 20 latents\n",
        "min_20L_1m_RMSE = np.amin(np.array(hist_rmse_Mf_1M_list[12:24]))\n",
        "min_20L_1m_index = np.where(np.array(min_20L_1m_RMSE) == hist_rmse_Mf_1M_list[12:24])[0][0]\n",
        "#find best model 1M 40 latents\n",
        "min_40L_1m_RMSE = np.amin(np.array(hist_rmse_Mf_1M_list[24:36]))\n",
        "min_40L_1m_index = np.where(np.array(min_40L_1m_RMSE) == hist_rmse_Mf_1M_list[24:36])[0][0]\n"
      ],
      "metadata": {
        "id": "eKQoAgK5q04A"
      },
      "execution_count": 15,
      "outputs": []
    },
    {
      "cell_type": "code",
      "source": [
        "# data to plot\n",
        "n_groups = 3\n",
        "RMSE_1m_MF = (min_10L_1m_RMSE,min_20L_1m_RMSE,min_40L_1m_RMSE)\n",
        "# create plot\n",
        "fig, ax = plt.subplots()\n",
        "index = np.arange(n_groups)\n",
        "bar_width = 0.2\n",
        "opacity = 0.5\n",
        "\n",
        "rects1 = plt.bar(index, RMSE_1m_MF, bar_width,\n",
        "alpha=opacity,\n",
        "color='b',\n",
        "label = 'MF')\n",
        "\n",
        "plt.xlabel('latent number')\n",
        "plt.ylabel('rmse')\n",
        "plt.title('rmse per latent number 1M')\n",
        "plt.xticks(index + bar_width, ('10' ,'20', '40'))\n",
        "plt.legend()\n",
        "plt.legend(loc=3)\n",
        "\n",
        "plt.show()"
      ],
      "metadata": {
        "colab": {
          "base_uri": "https://localhost:8080/",
          "height": 295
        },
        "id": "gznhPBs1sW8y",
        "outputId": "2cc31ea4-3fce-40b7-be91-e6cfe7ab88f7"
      },
      "execution_count": 14,
      "outputs": [
        {
          "output_type": "display_data",
          "data": {
            "image/png": "[encoded data removed]",
            "text/plain": [
              "<Figure size 432x288 with 1 Axes>"
            ]
          },
          "metadata": {
            "needs_background": "light"
          }
        }
      ]
    },
    {
      "cell_type": "code",
      "source": [
        "min_500_100K_RMSE"
      ],
      "metadata": {
        "colab": {
          "base_uri": "https://localhost:8080/"
        },
        "id": "-ZrmtEc4d1Vd",
        "outputId": "8391d693-c435-49e2-954e-0044c26778b0"
      },
      "execution_count": 33,
      "outputs": [
        {
          "output_type": "execute_result",
          "data": {
            "text/plain": [
              "1.0118466063332117"
            ]
          },
          "metadata": {},
          "execution_count": 33
        }
      ]
    },
    {
      "cell_type": "code",
      "source": [
        "#find best model 1M 500 auto rec\n",
        "min_500_1m = [];\n",
        "for i in range(8):\n",
        "  min_500_1m.append(np.amin(np.array(hist_file1MAutoRec_list[i][2])))\n",
        "min_500_1m_RMSE = np.amin(np.array(min_500_1m))\n",
        "min_500_1m_index = np.where(np.array(min_500_1m) == min_500_1m_RMSE)[0][0]\n",
        "#find best model 1M 250 auto rec\n",
        "min_250_1m = [];\n",
        "for i in range(8,16):\n",
        "  min_250_1m.append(np.amin(np.array(hist_file1MAutoRec_list[i][2])))\n",
        "min_250_1m_RMSE = np.amin(np.array(min_250_1m))\n",
        "min_250_1m_index = np.where(np.array(min_250_1m) == min_250_1m_RMSE)[0][0]\n",
        "#find best model 1M 100 auto rec\n",
        "min_100_1m = []\n",
        "for i in range(16,24):\n",
        "  min_100_1m.append(np.amin(np.array(hist_file1MAutoRec_list[i][2])))\n",
        "min_100_1m_RMSE = np.amin(np.array(min_100_1m))\n",
        "min_100_1m_index = np.where(np.array(min_100_1m) == min_100_1m_RMSE)[0][0]\n",
        "\n",
        "#find best model 1M 500 auto rec New\n",
        "min_500_1mNew = [];\n",
        "for i in range(8):\n",
        "  min_500_1mNew.append(np.amin(np.array(hist_file1MAutoRecNew_list[i][2])))\n",
        "min_500_1m_RMSENew = np.amin(np.array(min_500_1mNew))\n",
        "min_500_1m_indexNew = np.where(np.array(min_500_1mNew) == min_500_1m_RMSENew)[0][0]\n",
        "#find best model 1M 250 auto rec\n",
        "min_250_1mNew = [];\n",
        "for i in range(8,16):\n",
        "  min_250_1mNew.append(np.amin(np.array(hist_file1MAutoRecNew_list[i][2])))\n",
        "min_250_1m_RMSENew = np.amin(np.array(min_250_1mNew))\n",
        "min_250_1m_indexNew = np.where(np.array(min_250_1mNew) == min_250_1m_RMSENew)[0][0]\n",
        "#find best model 1M 100 auto rec\n",
        "min_100_1mNew = []\n",
        "for i in range(16,24):\n",
        "  min_100_1mNew.append(np.amin(np.array(hist_file1MAutoRecNew_list[i][2])))\n",
        "min_100_1m_RMSENew = np.amin(np.array(min_100_1mNew))\n",
        "min_100_1m_indexNew = np.where(np.array(min_100_1mNew) == min_100_1m_RMSENew)[0][0]\n"
      ],
      "metadata": {
        "id": "K6_TKusUtAnM"
      },
      "execution_count": 16,
      "outputs": []
    },
    {
      "cell_type": "code",
      "source": [
        "# data to plot\n",
        "n_groups = 3\n",
        "RMSE_1m_NEW = (min_500_1m_RMSENew,min_250_1m_RMSENew,min_100_1m_RMSENew)\n",
        "RMSE_1m = (min_500_1m_RMSE,min_250_1m_RMSE,min_100_1m_RMSE)\n",
        "# create plot\n",
        "fig, ax = plt.subplots()\n",
        "index = np.arange(n_groups)\n",
        "bar_width = 0.2\n",
        "opacity = 0.5\n",
        "\n",
        "rects1 = plt.bar(index, RMSE_1m, bar_width,\n",
        "alpha=opacity,\n",
        "color='b',\n",
        "label = 'Autorec')\n",
        "\n",
        "rects2 = plt.bar(index +bar_width, RMSE_1m_NEW, bar_width,\n",
        "alpha=opacity,\n",
        "color='y',\n",
        "label = 'AutorecNew')\n",
        "\n",
        "plt.xlabel('number of hidden units')\n",
        "plt.ylabel('rmse')\n",
        "plt.title('rmse per number of hidden units 1M')\n",
        "plt.xticks(index + bar_width, ('500' ,'250', '100'))\n",
        "plt.legend()\n",
        "plt.legend(loc=3)\n",
        "\n",
        "plt.show()"
      ],
      "metadata": {
        "colab": {
          "base_uri": "https://localhost:8080/",
          "height": 295
        },
        "id": "MOHY7CVWoFsz",
        "outputId": "b96a0c01-0bbf-4ffb-e3c6-2e851515d26a"
      },
      "execution_count": 17,
      "outputs": [
        {
          "output_type": "display_data",
          "data": {
            "image/png": "[encoded data removed]",
            "text/plain": [
              "<Figure size 432x288 with 1 Axes>"
            ]
          },
          "metadata": {
            "needs_background": "light"
          }
        }
      ]
    },
    {
      "cell_type": "code",
      "source": [
        "#find best model 100k 500 auto rec\n",
        "min_500_100K = [];\n",
        "for i in range(8):\n",
        "  min_500_100K.append(np.amin(np.array(hist_file100KAutoRec_list[i][2])))\n",
        "min_500_100K_RMSE = np.amin(np.array(min_500_100K))\n",
        "min_500_100K_index = np.where(np.array(min_500_100K) == min_500_100K_RMSE)[0][0]\n",
        "#find best model 100K 250 auto rec\n",
        "min_250_100K = [];\n",
        "for i in range(8,16):\n",
        "  min_250_100K.append(np.amin(np.array(hist_file100KAutoRec_list[i][2])))\n",
        "min_250_100K_RMSE = np.amin(np.array(min_250_100K))\n",
        "min_250_100K_index = np.where(np.array(min_250_100K) == min_250_100K_RMSE)[0][0]\n",
        "#find best model 100K 100 auto rec\n",
        "min_100_100K = []\n",
        "for i in range(16,24):\n",
        "  min_100_100K.append(np.amin(np.array(hist_file100KAutoRec_list[i][2])))\n",
        "min_100_100K_RMSE = np.amin(np.array(min_100_100K))\n",
        "min_100_100K_index = np.where(np.array(min_100_100K) == min_100_100K_RMSE)[0][0]\n",
        "\n",
        "#find best model 100K 500 auto rec New\n",
        "min_500_100KNew = [];\n",
        "for i in range(8):\n",
        "  min_500_100KNew.append(np.amin(np.array(hist_file100KAutoRecNew_list[i][2])))\n",
        "min_500_100K_RMSENew = np.amin(np.array(min_500_100KNew))\n",
        "min_500_100K_indexNew = np.where(np.array(min_500_100KNew) == min_500_100K_RMSENew)[0][0]\n",
        "#find best model 100K 250 auto rec\n",
        "min_250_100KNew = [];\n",
        "for i in range(8,16):\n",
        "  min_250_100KNew.append(np.amin(np.array(hist_file100KAutoRecNew_list[i][2])))\n",
        "min_250_100K_RMSENew = np.amin(np.array(min_250_100KNew))\n",
        "min_250_100K_indexNew = np.where(np.array(min_250_100KNew) == min_250_100K_RMSENew)[0][0]\n",
        "#find best model 100K 100 auto rec\n",
        "min_100_100KNew = []\n",
        "for i in range(16,24):\n",
        "  min_100_100KNew.append(np.amin(np.array(hist_file100KAutoRecNew_list[i][2])))\n",
        "min_100_100K_RMSENew = np.amin(np.array(min_100_100KNew))\n",
        "min_100_100K_indexNew = np.where(np.array(min_100_100KNew) == min_100_100K_RMSENew)[0][0]\n"
      ],
      "metadata": {
        "id": "w4OaAEbtyvgl"
      },
      "execution_count": 26,
      "outputs": []
    },
    {
      "cell_type": "code",
      "source": [
        "# data to plot\n",
        "n_groups = 3\n",
        "RMSE_100K_NEW = (min_500_100K_RMSENew,min_250_100K_RMSENew,min_100_100K_RMSENew)\n",
        "RMSE_100K = (min_500_100K_RMSE,min_250_100K_RMSE,min_100_100K_RMSE)\n",
        "# create plot\n",
        "fig, ax = plt.subplots()\n",
        "index = np.arange(n_groups)\n",
        "bar_width = 0.2\n",
        "opacity = 0.5\n",
        "\n",
        "rects1 = plt.bar(index, RMSE_100K, bar_width,\n",
        "alpha=opacity,\n",
        "color='b',\n",
        "label = 'Autorec')\n",
        "\n",
        "rects2 = plt.bar(index +bar_width, RMSE_100K_NEW, bar_width,\n",
        "alpha=opacity,\n",
        "color='y',\n",
        "label = 'AutorecNew')\n",
        "\n",
        "plt.xlabel('number of hidden units')\n",
        "plt.ylabel('rmse')\n",
        "plt.title('rmse per number of hidden units 100K')\n",
        "plt.xticks(index + bar_width, ('500' ,'250', '100'))\n",
        "plt.legend()\n",
        "plt.legend(loc=3)\n",
        "\n",
        "plt.show()"
      ],
      "metadata": {
        "colab": {
          "base_uri": "https://localhost:8080/",
          "height": 295
        },
        "id": "NUToGY0KzlRW",
        "outputId": "08320a81-a581-4425-967c-118c570ad498"
      },
      "execution_count": null,
      "outputs": [
        {
          "output_type": "display_data",
          "data": {
            "image/png": "[encoded data removed]",
            "text/plain": [
              "<Figure size 432x288 with 1 Axes>"
            ]
          },
          "metadata": {
            "needs_background": "light"
          }
        }
      ]
    },
    {
      "cell_type": "code",
      "source": [
        "# data to plot\n",
        "n_groups = 3\n",
        "KRMSE = (min_500_100K_RMSE,min_500_100K_RMSENew,0)\n",
        "MRMSE = (min_500_1m_RMSE,min_500_1m_RMSENew,min_10L_1m_RMSE)\n",
        "# create plot\n",
        "fig, ax = plt.subplots()\n",
        "index = np.arange(n_groups)\n",
        "bar_width = 0.2\n",
        "opacity = 0.5\n",
        "\n",
        "rects1 = plt.bar(index, KRMSE, bar_width,\n",
        "alpha=opacity,\n",
        "color='b',\n",
        "label = '100k')\n",
        "\n",
        "rects2 = plt.bar(index +bar_width, MRMSE, bar_width,\n",
        "alpha=opacity,\n",
        "color='y',\n",
        "label = '1M')\n",
        "\n",
        "\n",
        "plt.xlabel('model')\n",
        "plt.ylabel('best rmse')\n",
        "plt.title('rmse per model')\n",
        "plt.xticks(index + bar_width, ('AutoRec' ,'AutoRecNew', 'MF'))\n",
        "plt.legend()\n",
        "plt.legend(loc=3)\n",
        "\n",
        "plt.show()"
      ],
      "metadata": {
        "colab": {
          "base_uri": "https://localhost:8080/",
          "height": 295
        },
        "id": "DwFNFY0k1J2_",
        "outputId": "4fe7c984-de91-41db-e661-ad1145264fa7"
      },
      "execution_count": null,
      "outputs": [
        {
          "output_type": "display_data",
          "data": {
            "image/png": "[encoded data removed]",
            "text/plain": [
              "<Figure size 432x288 with 1 Axes>"
            ]
          },
          "metadata": {
            "needs_background": "light"
          }
        }
      ]
    },
    {
      "cell_type": "code",
      "source": [
        "train_samples_1m = 1000209 * 0.9\n",
        "test_samples_1m = 1000209 * 0.1\n",
        "train_samples_100K = 80000\n",
        "test_samples_100K = 20000"
      ],
      "metadata": {
        "id": "L_TjrRf-jP40"
      },
      "execution_count": null,
      "outputs": []
    },
    {
      "cell_type": "code",
      "source": [
        "x = np.arange(400)\n",
        "y = np.arange(200)\n",
        "# plot lines\n",
        "plt.plot(x, hist_file100KAutoRec_list[min_500_100K_index][0]/ train_samples_100K, label  = \"train loss autoRec\")\n",
        "plt.plot(x, hist_file100KAutoRec_list[min_500_100K_index][1]/ test_samples_100K, label = \"test loss autoRec\")\n",
        "plt.plot(y, hist_file100KAutoRecNew_list[min_500_100K_indexNew][0]/ train_samples_100K, label  = \"train loss autoRecNew\")\n",
        "plt.plot(y, hist_file100KAutoRecNew_list[min_500_100K_indexNew][1]/ test_samples_100K, label = \"test loss autoRecNew\")\n",
        "plt.title('100K loss')\n",
        "plt.xlabel('epoch')\n",
        "plt.ylabel('loss')\n",
        "plt.legend()\n",
        "plt.show()"
      ],
      "metadata": {
        "colab": {
          "base_uri": "https://localhost:8080/",
          "height": 295
        },
        "id": "DCgdnFexi76x",
        "outputId": "08ad7c47-1bb1-4daf-f20f-d743d33247df"
      },
      "execution_count": null,
      "outputs": [
        {
          "output_type": "display_data",
          "data": {
            "image/png": "[encoded data removed]",
            "text/plain": [
              "<Figure size 432x288 with 1 Axes>"
            ]
          },
          "metadata": {
            "needs_background": "light"
          }
        }
      ]
    },
    {
      "cell_type": "code",
      "source": [
        "x = np.arange(200)\n",
        "# plot lines\n",
        "plt.plot(x, hist_file1MAutoRec_list[min_500_1m_index][0]/ train_samples_1m, label  = \"train loss autoRec\")\n",
        "plt.plot(x, hist_file1MAutoRec_list[min_500_1m_index][1]/ test_samples_1m, label = \"test loss autoRec\")\n",
        "plt.plot(x, hist_file1MAutoRecNew_list[min_500_1m_indexNew][0]/ train_samples_1m, label  = \"train loss autoRecNew\")\n",
        "plt.plot(x, hist_file1MAutoRecNew_list[min_500_1m_indexNew][1]/ test_samples_1m, label = \"test loss autoRecNew\")\n",
        "plt.title('1M loss')\n",
        "plt.xlabel('epoch')\n",
        "plt.ylabel('loss')\n",
        "plt.legend()\n",
        "plt.show()"
      ],
      "metadata": {
        "colab": {
          "base_uri": "https://localhost:8080/",
          "height": 295
        },
        "id": "P0Ht1svzlaxk",
        "outputId": "328375e9-f270-4506-8751-858ef67bd270"
      },
      "execution_count": null,
      "outputs": [
        {
          "output_type": "display_data",
          "data": {
            "image/png": "[encoded data removed]",
            "text/plain": [
              "<Figure size 432x288 with 1 Axes>"
            ]
          },
          "metadata": {
            "needs_background": "light"
          }
        }
      ]
    },
    {
      "cell_type": "code",
      "source": [
        "x = np.arange(200)\n",
        "# plot lines\n",
        "plt.plot(x, hist_file1MAutoRec_list[min_500_1m_index][2], label  = \"RMSE autoRec\")\n",
        "plt.plot(x, hist_file1MAutoRecNew_list[min_500_1m_indexNew][2], label = \"RMSE autoRecNew\")\n",
        "plt.title('1M RMSE')\n",
        "plt.xlabel('epoch')\n",
        "plt.ylabel('loss')\n",
        "plt.legend()\n",
        "plt.show()"
      ],
      "metadata": {
        "colab": {
          "base_uri": "https://localhost:8080/",
          "height": 295
        },
        "id": "iqzfgtjUmudS",
        "outputId": "d5aaaadb-7d5e-4633-af1c-4960c039d162"
      },
      "execution_count": null,
      "outputs": [
        {
          "output_type": "display_data",
          "data": {
            "image/png": "[encoded data removed]",
            "text/plain": [
              "<Figure size 432x288 with 1 Axes>"
            ]
          },
          "metadata": {
            "needs_background": "light"
          }
        }
      ]
    },
    {
      "cell_type": "code",
      "source": [
        "len(hist_file100KAutoRecNew_list[min_500_100K_indexNew][1])"
      ],
      "metadata": {
        "colab": {
          "base_uri": "https://localhost:8080/"
        },
        "id": "3DujwNWwnWLK",
        "outputId": "dcfafa95-fd7e-49ac-de86-b623c05a42ae"
      },
      "execution_count": null,
      "outputs": [
        {
          "output_type": "execute_result",
          "data": {
            "text/plain": [
              "200"
            ]
          },
          "metadata": {},
          "execution_count": 40
        }
      ]
    },
    {
      "cell_type": "code",
      "source": [
        "y = np.arange(200)\n",
        "# plot lines\n",
        "plt.plot(y, hist_file100KAutoRecNew_list[min_500_100K_indexNew][2], label = \"RMSE autoRecNew\")\n",
        "plt.title('100K RMSE auto rec new')\n",
        "plt.xlabel('epoch')\n",
        "plt.ylabel('loss')\n",
        "plt.legend()\n",
        "plt.show()"
      ],
      "metadata": {
        "colab": {
          "base_uri": "https://localhost:8080/",
          "height": 295
        },
        "id": "2V5S-lm1nCrK",
        "outputId": "fde4a05f-932a-4a33-b811-84f856674792"
      },
      "execution_count": null,
      "outputs": [
        {
          "output_type": "display_data",
          "data": {
            "image/png": "[encoded data removed]",
            "text/plain": [
              "<Figure size 432x288 with 1 Axes>"
            ]
          },
          "metadata": {
            "needs_background": "light"
          }
        }
      ]
    },
    {
      "cell_type": "code",
      "source": [
        "x = np.arange(400)\n",
        "# plot lines\n",
        "plt.plot(x, hist_file100KAutoRec_list[min_500_100K_index][2], label  = \"RMSE autoRec\")\n",
        "plt.title('100K RMSE auto rec')\n",
        "plt.xlabel('epoch')\n",
        "plt.ylabel('loss')\n",
        "plt.legend()\n",
        "plt.show()"
      ],
      "metadata": {
        "colab": {
          "base_uri": "https://localhost:8080/",
          "height": 295
        },
        "id": "YG0SjnPXoADa",
        "outputId": "57655421-c0f5-40e5-f2d2-11674b3d3293"
      },
      "execution_count": null,
      "outputs": [
        {
          "output_type": "display_data",
          "data": {
            "image/png": "[encoded data removed]",
            "text/plain": [
              "<Figure size 432x288 with 1 Axes>"
            ]
          },
          "metadata": {
            "needs_background": "light"
          }
        }
      ]
    },
    {
      "cell_type": "code",
      "source": [
        "y = np.arange(200)\n",
        "# plot lines\n",
        "plt.plot(y, hist_file1MAutoRecNew_list[min_500_1m_indexNew][2], label = \"RMSE autoRecNew\")\n",
        "plt.title('1M RMSE auto rec new')\n",
        "plt.xlabel('epoch')\n",
        "plt.ylabel('loss')\n",
        "plt.legend()\n",
        "plt.show()"
      ],
      "metadata": {
        "colab": {
          "base_uri": "https://localhost:8080/",
          "height": 295
        },
        "id": "mUanUij7oPZJ",
        "outputId": "8bd439b3-490a-448d-ee77-bcd0a4363d54"
      },
      "execution_count": null,
      "outputs": [
        {
          "output_type": "display_data",
          "data": {
            "image/png": "[encoded data removed]",
            "text/plain": [
              "<Figure size 432x288 with 1 Axes>"
            ]
          },
          "metadata": {
            "needs_background": "light"
          }
        }
      ]
    },
    {
      "cell_type": "code",
      "source": [
        "x = np.arange(200)\n",
        "# plot lines\n",
        "plt.plot(x, hist_file1MAutoRec_list[min_500_1m_index][2], label  = \"RMSE autoRec\")\n",
        "plt.title('1M RMSE auto rec')\n",
        "plt.xlabel('epoch')\n",
        "plt.ylabel('loss')\n",
        "plt.legend()\n",
        "plt.show()"
      ],
      "metadata": {
        "colab": {
          "base_uri": "https://localhost:8080/",
          "height": 295
        },
        "id": "4X9_vEthoWTm",
        "outputId": "0aed34f5-5a82-426e-9e59-22f18a06ab0a"
      },
      "execution_count": null,
      "outputs": [
        {
          "output_type": "display_data",
          "data": {
            "image/png": "[encoded data removed]",
            "text/plain": [
              "<Figure size 432x288 with 1 Axes>"
            ]
          },
          "metadata": {
            "needs_background": "light"
          }
        }
      ]
    }
  ]
}